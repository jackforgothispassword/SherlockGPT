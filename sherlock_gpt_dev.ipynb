{
  "nbformat": 4,
  "nbformat_minor": 0,
  "metadata": {
    "colab": {
      "provenance": []
    },
    "kernelspec": {
      "name": "python3",
      "display_name": "Python 3"
    },
    "language_info": {
      "name": "python"
    }
  },
  "cells": [
    {
      "cell_type": "markdown",
      "source": [
        "## Building a GPT\n",
        "\n",
        "Companion notebook to the [Zero To Hero](https://karpathy.ai/zero-to-hero.html) video on GPT."
      ],
      "metadata": {
        "id": "wJpXpmjEYC_T"
      }
    },
    {
      "cell_type": "code",
      "execution_count": 2,
      "metadata": {
        "colab": {
          "base_uri": "https://localhost:8080/"
        },
        "id": "h5hjCcLDr2WC",
        "outputId": "61b4f300-e992-4769-9de5-240e1cab5b15"
      },
      "outputs": [
        {
          "output_type": "stream",
          "name": "stdout",
          "text": [
            "--2023-06-13 22:22:25--  https://raw.githubusercontent.com/jackforgothispassword/SherlockGPT/main/input.txt\n",
            "Resolving raw.githubusercontent.com (raw.githubusercontent.com)... 185.199.108.133, 185.199.109.133, 185.199.110.133, ...\n",
            "Connecting to raw.githubusercontent.com (raw.githubusercontent.com)|185.199.108.133|:443... connected.\n",
            "HTTP request sent, awaiting response... 200 OK\n",
            "Length: 562346 (549K) [text/plain]\n",
            "Saving to: ‘input.txt’\n",
            "\n",
            "input.txt           100%[===================>] 549.17K  --.-KB/s    in 0.04s   \n",
            "\n",
            "2023-06-13 22:22:25 (14.3 MB/s) - ‘input.txt’ saved [562346/562346]\n",
            "\n"
          ]
        }
      ],
      "source": [
        "# We always start with a dataset to train on. Let's download the tiny shakespeare dataset\n",
        "!wget https://raw.githubusercontent.com/jackforgothispassword/SherlockGPT/main/input.txt"
      ]
    },
    {
      "cell_type": "code",
      "source": [
        "# read it in to inspect it\n",
        "with open('input.txt', 'r', encoding='utf-8') as f:\n",
        "    text = f.read()"
      ],
      "metadata": {
        "id": "O6medjfRsLD9"
      },
      "execution_count": 3,
      "outputs": []
    },
    {
      "cell_type": "code",
      "source": [
        "print(\"length of dataset in characters: \", len(text))"
      ],
      "metadata": {
        "colab": {
          "base_uri": "https://localhost:8080/"
        },
        "id": "6xWI_VyAsN8F",
        "outputId": "a1101518-68fc-43d2-b5f1-dcdc260fef7b"
      },
      "execution_count": 4,
      "outputs": [
        {
          "output_type": "stream",
          "name": "stdout",
          "text": [
            "length of dataset in characters:  562331\n"
          ]
        }
      ]
    },
    {
      "cell_type": "code",
      "source": [
        "# let's look at the first 1000 characters\n",
        "print(text[:1000])"
      ],
      "metadata": {
        "colab": {
          "base_uri": "https://localhost:8080/"
        },
        "id": "2c5V0FvqseE0",
        "outputId": "ddbcc3f2-b147-49c4-aa78-e34fe887f70c"
      },
      "execution_count": 5,
      "outputs": [
        {
          "output_type": "stream",
          "name": "stdout",
          "text": [
            "THE ADVENTURES OF SHERLOCK HOLMES\n",
            "\n",
            "by\n",
            "\n",
            "SIR ARTHUR CONAN DOYLE\n",
            "\n",
            "\n",
            "\n",
            "   I. A Scandal in Bohemia\n",
            "  II. The Red-headed League\n",
            " III. A Case of Identity\n",
            "  IV. The Boscombe Valley Mystery\n",
            "   V. The Five Orange Pips\n",
            "  VI. The Man with the Twisted Lip\n",
            " VII. The Adventure of the Blue Carbuncle\n",
            "VIII. The Adventure of the Speckled Band\n",
            "  IX. The Adventure of the Engineer's Thumb\n",
            "   X. The Adventure of the Noble Bachelor\n",
            "  XI. The Adventure of the Beryl Coronet\n",
            " XII. The Adventure of the Copper Beeches\n",
            "\n",
            "\n",
            "\n",
            "\n",
            "ADVENTURE I. A SCANDAL IN BOHEMIA\n",
            "\n",
            "I.\n",
            "\n",
            "To Sherlock Holmes she is always THE woman. I have seldom heard\n",
            "him mention her under any other name. In his eyes she eclipses\n",
            "and predominates the whole of her sex. It was not that he felt\n",
            "any emotion akin to love for Irene Adler. All emotions, and that\n",
            "one particularly, were abhorrent to his cold, precise but\n",
            "admirably balanced mind. He was, I take it, the most perfect\n",
            "reasoning and observing machine that the world has seen, but as a\n",
            "lover he would have plac\n"
          ]
        }
      ]
    },
    {
      "cell_type": "code",
      "source": [
        "# here are all the unique characters that occur in this text\n",
        "chars = sorted(list(set(text)))\n",
        "vocab_size = len(chars)\n",
        "print(''.join(chars))\n",
        "print(vocab_size)"
      ],
      "metadata": {
        "colab": {
          "base_uri": "https://localhost:8080/"
        },
        "id": "0e-Rbyr8sfM8",
        "outputId": "3506d79a-6f3a-4232-ed97-15825b051965"
      },
      "execution_count": 6,
      "outputs": [
        {
          "output_type": "stream",
          "name": "stdout",
          "text": [
            "\n",
            " !\"&'(),-./0123456789:;?ABCDEFGHIJKLMNOPQRSTUVWXYZabcdefghijklmnopqrstuvwxyzàâèé\n",
            "81\n"
          ]
        }
      ]
    },
    {
      "cell_type": "code",
      "source": [
        "# create a mapping from characters to integers\n",
        "stoi = { ch:i for i,ch in enumerate(chars) }\n",
        "itos = { i:ch for i,ch in enumerate(chars) }\n",
        "encode = lambda s: [stoi[c] for c in s] # encoder: take a string, output a list of integers\n",
        "decode = lambda l: ''.join([itos[i] for i in l]) # decoder: take a list of integers, output a string\n",
        "\n",
        "print(encode(\"hii there\"))\n",
        "print(decode(encode(\"hii there\")))"
      ],
      "metadata": {
        "colab": {
          "base_uri": "https://localhost:8080/"
        },
        "id": "Yw1LKNCgwjj1",
        "outputId": "560e3112-ae57-4f0c-9015-b12c9cff6696"
      },
      "execution_count": 7,
      "outputs": [
        {
          "output_type": "stream",
          "name": "stdout",
          "text": [
            "[58, 59, 59, 1, 70, 58, 55, 68, 55]\n",
            "hii there\n"
          ]
        }
      ]
    },
    {
      "cell_type": "code",
      "source": [
        "# let's now encode the entire text dataset and store it into a torch.Tensor\n",
        "import torch # we use PyTorch: https://pytorch.org\n",
        "data = torch.tensor(encode(text), dtype=torch.long)\n",
        "print(data.shape, data.dtype)\n",
        "print(data[:1000]) # the 1000 characters we looked at earier will to the GPT look like this"
      ],
      "metadata": {
        "colab": {
          "base_uri": "https://localhost:8080/"
        },
        "id": "YJb0OXPwzvqg",
        "outputId": "f0dddb08-e30d-4622-b4a8-933e8a0afd18"
      },
      "execution_count": 8,
      "outputs": [
        {
          "output_type": "stream",
          "name": "stdout",
          "text": [
            "torch.Size([562331]) torch.int64\n",
            "tensor([44, 32, 29,  1, 25, 28, 46, 29, 38, 44, 45, 42, 29, 43,  1, 39, 30,  1,\n",
            "        43, 32, 29, 42, 36, 39, 27, 35,  1, 32, 39, 36, 37, 29, 43,  0,  0, 52,\n",
            "        75,  0,  0, 43, 33, 42,  1, 25, 42, 44, 32, 45, 42,  1, 27, 39, 38, 25,\n",
            "        38,  1, 28, 39, 49, 36, 29,  0,  0,  0,  0,  1,  1,  1, 33, 10,  1, 25,\n",
            "         1, 43, 53, 51, 64, 54, 51, 62,  1, 59, 64,  1, 26, 65, 58, 55, 63, 59,\n",
            "        51,  0,  1,  1, 33, 33, 10,  1, 44, 58, 55,  1, 42, 55, 54,  9, 58, 55,\n",
            "        51, 54, 55, 54,  1, 36, 55, 51, 57, 71, 55,  0,  1, 33, 33, 33, 10,  1,\n",
            "        25,  1, 27, 51, 69, 55,  1, 65, 56,  1, 33, 54, 55, 64, 70, 59, 70, 75,\n",
            "         0,  1,  1, 33, 46, 10,  1, 44, 58, 55,  1, 26, 65, 69, 53, 65, 63, 52,\n",
            "        55,  1, 46, 51, 62, 62, 55, 75,  1, 37, 75, 69, 70, 55, 68, 75,  0,  1,\n",
            "         1,  1, 46, 10,  1, 44, 58, 55,  1, 30, 59, 72, 55,  1, 39, 68, 51, 64,\n",
            "        57, 55,  1, 40, 59, 66, 69,  0,  1,  1, 46, 33, 10,  1, 44, 58, 55,  1,\n",
            "        37, 51, 64,  1, 73, 59, 70, 58,  1, 70, 58, 55,  1, 44, 73, 59, 69, 70,\n",
            "        55, 54,  1, 36, 59, 66,  0,  1, 46, 33, 33, 10,  1, 44, 58, 55,  1, 25,\n",
            "        54, 72, 55, 64, 70, 71, 68, 55,  1, 65, 56,  1, 70, 58, 55,  1, 26, 62,\n",
            "        71, 55,  1, 27, 51, 68, 52, 71, 64, 53, 62, 55,  0, 46, 33, 33, 33, 10,\n",
            "         1, 44, 58, 55,  1, 25, 54, 72, 55, 64, 70, 71, 68, 55,  1, 65, 56,  1,\n",
            "        70, 58, 55,  1, 43, 66, 55, 53, 61, 62, 55, 54,  1, 26, 51, 64, 54,  0,\n",
            "         1,  1, 33, 48, 10,  1, 44, 58, 55,  1, 25, 54, 72, 55, 64, 70, 71, 68,\n",
            "        55,  1, 65, 56,  1, 70, 58, 55,  1, 29, 64, 57, 59, 64, 55, 55, 68,  5,\n",
            "        69,  1, 44, 58, 71, 63, 52,  0,  1,  1,  1, 48, 10,  1, 44, 58, 55,  1,\n",
            "        25, 54, 72, 55, 64, 70, 71, 68, 55,  1, 65, 56,  1, 70, 58, 55,  1, 38,\n",
            "        65, 52, 62, 55,  1, 26, 51, 53, 58, 55, 62, 65, 68,  0,  1,  1, 48, 33,\n",
            "        10,  1, 44, 58, 55,  1, 25, 54, 72, 55, 64, 70, 71, 68, 55,  1, 65, 56,\n",
            "         1, 70, 58, 55,  1, 26, 55, 68, 75, 62,  1, 27, 65, 68, 65, 64, 55, 70,\n",
            "         0,  1, 48, 33, 33, 10,  1, 44, 58, 55,  1, 25, 54, 72, 55, 64, 70, 71,\n",
            "        68, 55,  1, 65, 56,  1, 70, 58, 55,  1, 27, 65, 66, 66, 55, 68,  1, 26,\n",
            "        55, 55, 53, 58, 55, 69,  0,  0,  0,  0,  0, 25, 28, 46, 29, 38, 44, 45,\n",
            "        42, 29,  1, 33, 10,  1, 25,  1, 43, 27, 25, 38, 28, 25, 36,  1, 33, 38,\n",
            "         1, 26, 39, 32, 29, 37, 33, 25,  0,  0, 33, 10,  0,  0, 44, 65,  1, 43,\n",
            "        58, 55, 68, 62, 65, 53, 61,  1, 32, 65, 62, 63, 55, 69,  1, 69, 58, 55,\n",
            "         1, 59, 69,  1, 51, 62, 73, 51, 75, 69,  1, 44, 32, 29,  1, 73, 65, 63,\n",
            "        51, 64, 10,  1, 33,  1, 58, 51, 72, 55,  1, 69, 55, 62, 54, 65, 63,  1,\n",
            "        58, 55, 51, 68, 54,  0, 58, 59, 63,  1, 63, 55, 64, 70, 59, 65, 64,  1,\n",
            "        58, 55, 68,  1, 71, 64, 54, 55, 68,  1, 51, 64, 75,  1, 65, 70, 58, 55,\n",
            "        68,  1, 64, 51, 63, 55, 10,  1, 33, 64,  1, 58, 59, 69,  1, 55, 75, 55,\n",
            "        69,  1, 69, 58, 55,  1, 55, 53, 62, 59, 66, 69, 55, 69,  0, 51, 64, 54,\n",
            "         1, 66, 68, 55, 54, 65, 63, 59, 64, 51, 70, 55, 69,  1, 70, 58, 55,  1,\n",
            "        73, 58, 65, 62, 55,  1, 65, 56,  1, 58, 55, 68,  1, 69, 55, 74, 10,  1,\n",
            "        33, 70,  1, 73, 51, 69,  1, 64, 65, 70,  1, 70, 58, 51, 70,  1, 58, 55,\n",
            "         1, 56, 55, 62, 70,  0, 51, 64, 75,  1, 55, 63, 65, 70, 59, 65, 64,  1,\n",
            "        51, 61, 59, 64,  1, 70, 65,  1, 62, 65, 72, 55,  1, 56, 65, 68,  1, 33,\n",
            "        68, 55, 64, 55,  1, 25, 54, 62, 55, 68, 10,  1, 25, 62, 62,  1, 55, 63,\n",
            "        65, 70, 59, 65, 64, 69,  8,  1, 51, 64, 54,  1, 70, 58, 51, 70,  0, 65,\n",
            "        64, 55,  1, 66, 51, 68, 70, 59, 53, 71, 62, 51, 68, 62, 75,  8,  1, 73,\n",
            "        55, 68, 55,  1, 51, 52, 58, 65, 68, 68, 55, 64, 70,  1, 70, 65,  1, 58,\n",
            "        59, 69,  1, 53, 65, 62, 54,  8,  1, 66, 68, 55, 53, 59, 69, 55,  1, 52,\n",
            "        71, 70,  0, 51, 54, 63, 59, 68, 51, 52, 62, 75,  1, 52, 51, 62, 51, 64,\n",
            "        53, 55, 54,  1, 63, 59, 64, 54, 10,  1, 32, 55,  1, 73, 51, 69,  8,  1,\n",
            "        33,  1, 70, 51, 61, 55,  1, 59, 70,  8,  1, 70, 58, 55,  1, 63, 65, 69,\n",
            "        70,  1, 66, 55, 68, 56, 55, 53, 70,  0, 68, 55, 51, 69, 65, 64, 59, 64,\n",
            "        57,  1, 51, 64, 54,  1, 65, 52, 69, 55, 68, 72, 59, 64, 57,  1, 63, 51,\n",
            "        53, 58, 59, 64, 55,  1, 70, 58, 51, 70,  1, 70, 58, 55,  1, 73, 65, 68,\n",
            "        62, 54,  1, 58, 51, 69,  1, 69, 55, 55, 64,  8,  1, 52, 71, 70,  1, 51,\n",
            "        69,  1, 51,  0, 62, 65, 72, 55, 68,  1, 58, 55,  1, 73, 65, 71, 62, 54,\n",
            "         1, 58, 51, 72, 55,  1, 66, 62, 51, 53])\n"
          ]
        }
      ]
    },
    {
      "cell_type": "code",
      "source": [
        "# Let's now split up the data into train and validation sets\n",
        "n = int(0.9*len(data)) # first 90% will be train, rest val\n",
        "train_data = data[:n]\n",
        "val_data = data[n:]"
      ],
      "metadata": {
        "id": "f_WIXqxz0lU5"
      },
      "execution_count": 9,
      "outputs": []
    },
    {
      "cell_type": "code",
      "source": [
        "block_size = 8\n",
        "train_data[:block_size+1]"
      ],
      "metadata": {
        "colab": {
          "base_uri": "https://localhost:8080/"
        },
        "id": "TD5Bj8Y6IAD4",
        "outputId": "71efe70b-91a3-49a2-c003-aa269494548f"
      },
      "execution_count": 10,
      "outputs": [
        {
          "output_type": "execute_result",
          "data": {
            "text/plain": [
              "tensor([44, 32, 29,  1, 25, 28, 46, 29, 38])"
            ]
          },
          "metadata": {},
          "execution_count": 10
        }
      ]
    },
    {
      "cell_type": "code",
      "source": [
        "x = train_data[:block_size]\n",
        "y = train_data[1:block_size+1]\n",
        "for t in range(block_size):\n",
        "    context = x[:t+1]\n",
        "    target = y[t]\n",
        "    print(f\"when input is {context} the target: {target}\")"
      ],
      "metadata": {
        "colab": {
          "base_uri": "https://localhost:8080/"
        },
        "id": "9HXDe8vGJCEn",
        "outputId": "9500b44a-3b42-4334-b2ab-419afe499b1e"
      },
      "execution_count": 11,
      "outputs": [
        {
          "output_type": "stream",
          "name": "stdout",
          "text": [
            "when input is tensor([44]) the target: 32\n",
            "when input is tensor([44, 32]) the target: 29\n",
            "when input is tensor([44, 32, 29]) the target: 1\n",
            "when input is tensor([44, 32, 29,  1]) the target: 25\n",
            "when input is tensor([44, 32, 29,  1, 25]) the target: 28\n",
            "when input is tensor([44, 32, 29,  1, 25, 28]) the target: 46\n",
            "when input is tensor([44, 32, 29,  1, 25, 28, 46]) the target: 29\n",
            "when input is tensor([44, 32, 29,  1, 25, 28, 46, 29]) the target: 38\n"
          ]
        }
      ]
    },
    {
      "cell_type": "code",
      "source": [
        "torch.manual_seed(1337)\n",
        "batch_size = 4 # how many independent sequences will we process in parallel?\n",
        "block_size = 8 # what is the maximum context length for predictions?\n",
        "\n",
        "def get_batch(split):\n",
        "    # generate a small batch of data of inputs x and targets y\n",
        "    data = train_data if split == 'train' else val_data\n",
        "    ix = torch.randint(len(data) - block_size, (batch_size,))\n",
        "    x = torch.stack([data[i:i+block_size] for i in ix])\n",
        "    y = torch.stack([data[i+1:i+block_size+1] for i in ix])\n",
        "    return x, y\n",
        "\n",
        "xb, yb = get_batch('train')\n",
        "print('inputs:')\n",
        "print(xb.shape)\n",
        "print(xb)\n",
        "print('targets:')\n",
        "print(yb.shape)\n",
        "print(yb)\n",
        "\n",
        "print('----')\n",
        "\n",
        "for b in range(batch_size): # batch dimension\n",
        "    for t in range(block_size): # time dimension\n",
        "        context = xb[b, :t+1]\n",
        "        target = yb[b,t]\n",
        "        print(f\"when input is {context.tolist()} the target: {target}\")"
      ],
      "metadata": {
        "colab": {
          "base_uri": "https://localhost:8080/"
        },
        "id": "Q3k1Czf7LuA9",
        "outputId": "dd757601-6a36-4258-c6af-ddd371295237"
      },
      "execution_count": 12,
      "outputs": [
        {
          "output_type": "stream",
          "name": "stdout",
          "text": [
            "inputs:\n",
            "torch.Size([4, 8])\n",
            "tensor([[31, 68, 59, 63, 55, 69, 52, 75],\n",
            "        [71, 62, 54,  1, 33,  1, 55, 72],\n",
            "        [58, 55,  1, 68, 65, 65, 56,  1],\n",
            "        [51, 59, 54,  1, 32, 65, 62, 63]])\n",
            "targets:\n",
            "torch.Size([4, 8])\n",
            "tensor([[68, 59, 63, 55, 69, 52, 75,  1],\n",
            "        [62, 54,  1, 33,  1, 55, 72, 55],\n",
            "        [55,  1, 68, 65, 65, 56,  1, 73],\n",
            "        [59, 54,  1, 32, 65, 62, 63, 55]])\n",
            "----\n",
            "when input is [31] the target: 68\n",
            "when input is [31, 68] the target: 59\n",
            "when input is [31, 68, 59] the target: 63\n",
            "when input is [31, 68, 59, 63] the target: 55\n",
            "when input is [31, 68, 59, 63, 55] the target: 69\n",
            "when input is [31, 68, 59, 63, 55, 69] the target: 52\n",
            "when input is [31, 68, 59, 63, 55, 69, 52] the target: 75\n",
            "when input is [31, 68, 59, 63, 55, 69, 52, 75] the target: 1\n",
            "when input is [71] the target: 62\n",
            "when input is [71, 62] the target: 54\n",
            "when input is [71, 62, 54] the target: 1\n",
            "when input is [71, 62, 54, 1] the target: 33\n",
            "when input is [71, 62, 54, 1, 33] the target: 1\n",
            "when input is [71, 62, 54, 1, 33, 1] the target: 55\n",
            "when input is [71, 62, 54, 1, 33, 1, 55] the target: 72\n",
            "when input is [71, 62, 54, 1, 33, 1, 55, 72] the target: 55\n",
            "when input is [58] the target: 55\n",
            "when input is [58, 55] the target: 1\n",
            "when input is [58, 55, 1] the target: 68\n",
            "when input is [58, 55, 1, 68] the target: 65\n",
            "when input is [58, 55, 1, 68, 65] the target: 65\n",
            "when input is [58, 55, 1, 68, 65, 65] the target: 56\n",
            "when input is [58, 55, 1, 68, 65, 65, 56] the target: 1\n",
            "when input is [58, 55, 1, 68, 65, 65, 56, 1] the target: 73\n",
            "when input is [51] the target: 59\n",
            "when input is [51, 59] the target: 54\n",
            "when input is [51, 59, 54] the target: 1\n",
            "when input is [51, 59, 54, 1] the target: 32\n",
            "when input is [51, 59, 54, 1, 32] the target: 65\n",
            "when input is [51, 59, 54, 1, 32, 65] the target: 62\n",
            "when input is [51, 59, 54, 1, 32, 65, 62] the target: 63\n",
            "when input is [51, 59, 54, 1, 32, 65, 62, 63] the target: 55\n"
          ]
        }
      ]
    },
    {
      "cell_type": "code",
      "source": [
        "print(xb) # our input to the transformer"
      ],
      "metadata": {
        "colab": {
          "base_uri": "https://localhost:8080/"
        },
        "id": "qpyyAeIzQjlO",
        "outputId": "f17dbdd5-80fa-4735-a2c6-9cb34293b90a"
      },
      "execution_count": 13,
      "outputs": [
        {
          "output_type": "stream",
          "name": "stdout",
          "text": [
            "tensor([[31, 68, 59, 63, 55, 69, 52, 75],\n",
            "        [71, 62, 54,  1, 33,  1, 55, 72],\n",
            "        [58, 55,  1, 68, 65, 65, 56,  1],\n",
            "        [51, 59, 54,  1, 32, 65, 62, 63]])\n"
          ]
        }
      ]
    },
    {
      "cell_type": "code",
      "source": [
        "import torch\n",
        "import torch.nn as nn\n",
        "from torch.nn import functional as F\n",
        "torch.manual_seed(1337)\n",
        "\n",
        "class BigramLanguageModel(nn.Module):\n",
        "\n",
        "    def __init__(self, vocab_size):\n",
        "        super().__init__()\n",
        "        # each token directly reads off the logits for the next token from a lookup table\n",
        "        self.token_embedding_table = nn.Embedding(vocab_size, vocab_size)\n",
        "\n",
        "    def forward(self, idx, targets=None):\n",
        "\n",
        "        # idx and targets are both (B,T) tensor of integers\n",
        "        logits = self.token_embedding_table(idx) # (B,T,C)\n",
        "\n",
        "        if targets is None:\n",
        "            loss = None\n",
        "        else:\n",
        "            B, T, C = logits.shape\n",
        "            logits = logits.view(B*T, C)\n",
        "            targets = targets.view(B*T)\n",
        "            loss = F.cross_entropy(logits, targets)\n",
        "\n",
        "        return logits, loss\n",
        "\n",
        "    def generate(self, idx, max_new_tokens):\n",
        "        # idx is (B, T) array of indices in the current context\n",
        "        for _ in range(max_new_tokens):\n",
        "            # get the predictions\n",
        "            logits, loss = self(idx)\n",
        "            # focus only on the last time step\n",
        "            logits = logits[:, -1, :] # becomes (B, C)\n",
        "            # apply softmax to get probabilities\n",
        "            probs = F.softmax(logits, dim=-1) # (B, C)\n",
        "            # sample from the distribution\n",
        "            idx_next = torch.multinomial(probs, num_samples=1) # (B, 1)\n",
        "            # append sampled index to the running sequence\n",
        "            idx = torch.cat((idx, idx_next), dim=1) # (B, T+1)\n",
        "        return idx\n",
        "\n",
        "m = BigramLanguageModel(vocab_size)\n",
        "logits, loss = m(xb, yb)\n",
        "print(logits.shape)\n",
        "print(loss)\n",
        "\n",
        "print(decode(m.generate(idx = torch.zeros((1, 1), dtype=torch.long), max_new_tokens=100)[0].tolist()))\n"
      ],
      "metadata": {
        "colab": {
          "base_uri": "https://localhost:8080/"
        },
        "id": "nql_1ER53oCf",
        "outputId": "b717f311-9dcb-4458-e821-61c20bf49689"
      },
      "execution_count": 14,
      "outputs": [
        {
          "output_type": "stream",
          "name": "stdout",
          "text": [
            "torch.Size([32, 81])\n",
            "tensor(4.9281, grad_fn=<NllLossBackward0>)\n",
            "\n",
            "éP-?yAP-(MZrh1xZ7è(\"z\n",
            "3)!âés7843OV349B GsTkAp4BoLVcZ 8?M3apX\n",
            "qk4Yy'()DR)D5z3rEjaP,FgMZROFImBQa.z:j52\n"
          ]
        }
      ]
    },
    {
      "cell_type": "code",
      "source": [
        "# create a PyTorch optimizer\n",
        "optimizer = torch.optim.AdamW(m.parameters(), lr=1e-3)"
      ],
      "metadata": {
        "id": "eTyJ8qAaDdiF"
      },
      "execution_count": 15,
      "outputs": []
    },
    {
      "cell_type": "code",
      "source": [
        "batch_size = 32\n",
        "for steps in range(100): # increase number of steps for good results...\n",
        "\n",
        "    # sample a batch of data\n",
        "    xb, yb = get_batch('train')\n",
        "\n",
        "    # evaluate the loss\n",
        "    logits, loss = m(xb, yb)\n",
        "    optimizer.zero_grad(set_to_none=True)\n",
        "    loss.backward()\n",
        "    optimizer.step()\n",
        "\n",
        "print(loss.item())\n"
      ],
      "metadata": {
        "colab": {
          "base_uri": "https://localhost:8080/"
        },
        "id": "Hs4kI8YdEkQj",
        "outputId": "afca1f2b-9f01-4a2e-a44b-3b0ca0cd8c22"
      },
      "execution_count": 16,
      "outputs": [
        {
          "output_type": "stream",
          "name": "stdout",
          "text": [
            "4.534953594207764\n"
          ]
        }
      ]
    },
    {
      "cell_type": "code",
      "source": [
        "print(decode(m.generate(idx = torch.zeros((1, 1), dtype=torch.long), max_new_tokens=500)[0].tolist()))"
      ],
      "metadata": {
        "colab": {
          "base_uri": "https://localhost:8080/"
        },
        "id": "EcVIDWAZEtjN",
        "outputId": "d0ae966f-a471-4fec-e901-dff4fcc7e870"
      },
      "execution_count": 17,
      "outputs": [
        {
          "output_type": "stream",
          "name": "stdout",
          "text": [
            "\n",
            "yk;rITRP7cDrqlPwUXmkO83O8 m6Fn&?(Zm\"àT(RAU\"é9;v(!iai-cK8\n",
            "aKNNwi5C\"A-Mwivi5pSwijwTa/gd\n",
            "é\n",
            "XàLR6DY7cVK:)OAQ-)fe4âMZ\"R,é0Bn5Sh mW73rKM;p4p\"485;)tN0Ogb4Jx9iè52O;&2B34p\n",
            "ZYwVx?d?9ââ5m\n",
            "RODDcZL?lS-f;!;dâàO&?,5Dc(VtKérRagS8vT.\n",
            "W,â27;5VxR3RY6àpjàIs'45PjgB6';gonEdé!7D(JSqMVx9Fc8d(Cb&z\n",
            "dKS)l-BoDRwoè'zNneàNQ(hGGGud-Uk5,5vuuuCwT,5u6D,èL Y7feJ&\n",
            "T,5P-,5JqZ?IZm2 DQB8tLW)i;ac;8Zxv&x&a0Y.XVkUPvkr2wFu.r'HL)s\"3D.s&N)kKK'bSàFImkYvlkY9aL!g1xUU)!CIT&O)\n",
            "vzet0Bhl!d3Oàam.;,3jCS-Ek\"x/vU'O8jVWG6g1O;WFbN0'SLAg5:1&Kyb1\n",
            "dpLR1:2\n"
          ]
        }
      ]
    },
    {
      "cell_type": "markdown",
      "source": [
        "## The mathematical trick in self-attention"
      ],
      "metadata": {
        "id": "XinV8nmAnmKN"
      }
    },
    {
      "cell_type": "code",
      "source": [
        "# toy example illustrating how matrix multiplication can be used for a \"weighted aggregation\"\n",
        "torch.manual_seed(42)\n",
        "a = torch.tril(torch.ones(3, 3))\n",
        "a = a / torch.sum(a, 1, keepdim=True)\n",
        "b = torch.randint(0,10,(3,2)).float()\n",
        "c = a @ b\n",
        "print('a=')\n",
        "print(a)\n",
        "print('--')\n",
        "print('b=')\n",
        "print(b)\n",
        "print('--')\n",
        "print('c=')\n",
        "print(c)"
      ],
      "metadata": {
        "colab": {
          "base_uri": "https://localhost:8080/"
        },
        "id": "tukiH-NbRBhA",
        "outputId": "d8ab34f6-d358-47b8-c479-cb565b0ad339"
      },
      "execution_count": 18,
      "outputs": [
        {
          "output_type": "stream",
          "name": "stdout",
          "text": [
            "a=\n",
            "tensor([[1.0000, 0.0000, 0.0000],\n",
            "        [0.5000, 0.5000, 0.0000],\n",
            "        [0.3333, 0.3333, 0.3333]])\n",
            "--\n",
            "b=\n",
            "tensor([[2., 7.],\n",
            "        [6., 4.],\n",
            "        [6., 5.]])\n",
            "--\n",
            "c=\n",
            "tensor([[2.0000, 7.0000],\n",
            "        [4.0000, 5.5000],\n",
            "        [4.6667, 5.3333]])\n"
          ]
        }
      ]
    },
    {
      "cell_type": "code",
      "source": [
        "# consider the following toy example:\n",
        "\n",
        "torch.manual_seed(1337)\n",
        "B,T,C = 4,8,2 # batch, time, channels\n",
        "x = torch.randn(B,T,C)\n",
        "x.shape"
      ],
      "metadata": {
        "colab": {
          "base_uri": "https://localhost:8080/"
        },
        "id": "Hs_E24uRE8kr",
        "outputId": "8541ed21-2ad6-447c-dd4c-376df7b63f06"
      },
      "execution_count": 19,
      "outputs": [
        {
          "output_type": "execute_result",
          "data": {
            "text/plain": [
              "torch.Size([4, 8, 2])"
            ]
          },
          "metadata": {},
          "execution_count": 19
        }
      ]
    },
    {
      "cell_type": "code",
      "source": [
        "# We want x[b,t] = mean_{i<=t} x[b,i]\n",
        "xbow = torch.zeros((B,T,C))\n",
        "for b in range(B):\n",
        "    for t in range(T):\n",
        "        xprev = x[b,:t+1] # (t,C)\n",
        "        xbow[b,t] = torch.mean(xprev, 0)\n"
      ],
      "metadata": {
        "id": "86NuXX0fn7ps"
      },
      "execution_count": 20,
      "outputs": []
    },
    {
      "cell_type": "code",
      "source": [
        "# version 2: using matrix multiply for a weighted aggregation\n",
        "wei = torch.tril(torch.ones(T, T))\n",
        "wei = wei / wei.sum(1, keepdim=True)\n",
        "xbow2 = wei @ x # (B, T, T) @ (B, T, C) ----> (B, T, C)\n",
        "torch.allclose(xbow, xbow2)"
      ],
      "metadata": {
        "colab": {
          "base_uri": "https://localhost:8080/"
        },
        "id": "yhdOAd6-wXkZ",
        "outputId": "3e0f66fb-1181-4beb-f5e9-b06d6b2ad2cc"
      },
      "execution_count": 21,
      "outputs": [
        {
          "output_type": "execute_result",
          "data": {
            "text/plain": [
              "True"
            ]
          },
          "metadata": {},
          "execution_count": 21
        }
      ]
    },
    {
      "cell_type": "code",
      "source": [
        "# version 3: use Softmax\n",
        "tril = torch.tril(torch.ones(T, T))\n",
        "wei = torch.zeros((T,T))\n",
        "wei = wei.masked_fill(tril == 0, float('-inf'))\n",
        "wei = F.softmax(wei, dim=-1)\n",
        "xbow3 = wei @ x\n",
        "torch.allclose(xbow, xbow3)\n"
      ],
      "metadata": {
        "colab": {
          "base_uri": "https://localhost:8080/"
        },
        "id": "wOURrfG-ysoL",
        "outputId": "472b8c09-9e34-4933-b6ec-38eb0826a7a6"
      },
      "execution_count": 22,
      "outputs": [
        {
          "output_type": "execute_result",
          "data": {
            "text/plain": [
              "True"
            ]
          },
          "metadata": {},
          "execution_count": 22
        }
      ]
    },
    {
      "cell_type": "code",
      "source": [
        "# version 4: self-attention!\n",
        "torch.manual_seed(1337)\n",
        "B,T,C = 4,8,32 # batch, time, channels\n",
        "x = torch.randn(B,T,C)\n",
        "\n",
        "# let's see a single Head perform self-attention\n",
        "head_size = 16\n",
        "key = nn.Linear(C, head_size, bias=False)\n",
        "query = nn.Linear(C, head_size, bias=False)\n",
        "value = nn.Linear(C, head_size, bias=False)\n",
        "k = key(x)   # (B, T, 16)\n",
        "q = query(x) # (B, T, 16)\n",
        "wei =  q @ k.transpose(-2, -1) # (B, T, 16) @ (B, 16, T) ---> (B, T, T)\n",
        "\n",
        "tril = torch.tril(torch.ones(T, T))\n",
        "#wei = torch.zeros((T,T))\n",
        "wei = wei.masked_fill(tril == 0, float('-inf'))\n",
        "wei = F.softmax(wei, dim=-1)\n",
        "\n",
        "v = value(x)\n",
        "out = wei @ v\n",
        "#out = wei @ x\n",
        "\n",
        "out.shape"
      ],
      "metadata": {
        "colab": {
          "base_uri": "https://localhost:8080/"
        },
        "id": "EDarxEWIRMKq",
        "outputId": "dc39d186-ec31-40a4-c9bd-9cda1d1d4640"
      },
      "execution_count": 23,
      "outputs": [
        {
          "output_type": "execute_result",
          "data": {
            "text/plain": [
              "torch.Size([4, 8, 16])"
            ]
          },
          "metadata": {},
          "execution_count": 23
        }
      ]
    },
    {
      "cell_type": "code",
      "source": [
        "wei[0]"
      ],
      "metadata": {
        "colab": {
          "base_uri": "https://localhost:8080/"
        },
        "id": "vT1hdtzXCjgL",
        "outputId": "5bacac15-0a52-465f-894e-24169a6ae816"
      },
      "execution_count": 24,
      "outputs": [
        {
          "output_type": "execute_result",
          "data": {
            "text/plain": [
              "tensor([[1.0000, 0.0000, 0.0000, 0.0000, 0.0000, 0.0000, 0.0000, 0.0000],\n",
              "        [0.1574, 0.8426, 0.0000, 0.0000, 0.0000, 0.0000, 0.0000, 0.0000],\n",
              "        [0.2088, 0.1646, 0.6266, 0.0000, 0.0000, 0.0000, 0.0000, 0.0000],\n",
              "        [0.5792, 0.1187, 0.1889, 0.1131, 0.0000, 0.0000, 0.0000, 0.0000],\n",
              "        [0.0294, 0.1052, 0.0469, 0.0276, 0.7909, 0.0000, 0.0000, 0.0000],\n",
              "        [0.0176, 0.2689, 0.0215, 0.0089, 0.6812, 0.0019, 0.0000, 0.0000],\n",
              "        [0.1691, 0.4066, 0.0438, 0.0416, 0.1048, 0.2012, 0.0329, 0.0000],\n",
              "        [0.0210, 0.0843, 0.0555, 0.2297, 0.0573, 0.0709, 0.2423, 0.2391]],\n",
              "       grad_fn=<SelectBackward0>)"
            ]
          },
          "metadata": {},
          "execution_count": 24
        }
      ]
    },
    {
      "cell_type": "markdown",
      "source": [
        "Notes:\n",
        "- Attention is a **communication mechanism**. Can be seen as nodes in a directed graph looking at each other and aggregating information with a weighted sum from all nodes that point to them, with data-dependent weights.\n",
        "- There is no notion of space. Attention simply acts over a set of vectors. This is why we need to positionally encode tokens.\n",
        "- Each example across batch dimension is of course processed completely independently and never \"talk\" to each other\n",
        "- In an \"encoder\" attention block just delete the single line that does masking with `tril`, allowing all tokens to communicate. This block here is called a \"decoder\" attention block because it has triangular masking, and is usually used in autoregressive settings, like language modeling.\n",
        "- \"self-attention\" just means that the keys and values are produced from the same source as queries. In \"cross-attention\", the queries still get produced from x, but the keys and values come from some other, external source (e.g. an encoder module)\n",
        "- \"Scaled\" attention additional divides `wei` by 1/sqrt(head_size). This makes it so when input Q,K are unit variance, wei will be unit variance too and Softmax will stay diffuse and not saturate too much. Illustration below"
      ],
      "metadata": {
        "id": "M5CvobiQ0pLr"
      }
    },
    {
      "cell_type": "code",
      "source": [
        "k = torch.randn(B,T,head_size)\n",
        "q = torch.randn(B,T,head_size)\n",
        "wei = q @ k.transpose(-2, -1) * head_size**-0.5"
      ],
      "metadata": {
        "id": "4SNbLq5z3oBw"
      },
      "execution_count": 25,
      "outputs": []
    },
    {
      "cell_type": "code",
      "source": [
        "k.var()"
      ],
      "metadata": {
        "colab": {
          "base_uri": "https://localhost:8080/"
        },
        "id": "Nl6I9n9IRTSo",
        "outputId": "c4586098-d4d8-4f1d-9dac-1b8054f40684"
      },
      "execution_count": 26,
      "outputs": [
        {
          "output_type": "execute_result",
          "data": {
            "text/plain": [
              "tensor(1.0449)"
            ]
          },
          "metadata": {},
          "execution_count": 26
        }
      ]
    },
    {
      "cell_type": "code",
      "source": [
        "q.var()"
      ],
      "metadata": {
        "colab": {
          "base_uri": "https://localhost:8080/"
        },
        "id": "T1tQx7oeRvtc",
        "outputId": "8aa7d311-2075-4260-dd57-1dada60f5f0b"
      },
      "execution_count": 27,
      "outputs": [
        {
          "output_type": "execute_result",
          "data": {
            "text/plain": [
              "tensor(1.0700)"
            ]
          },
          "metadata": {},
          "execution_count": 27
        }
      ]
    },
    {
      "cell_type": "code",
      "source": [
        "wei.var()"
      ],
      "metadata": {
        "colab": {
          "base_uri": "https://localhost:8080/"
        },
        "id": "MLb_odHU3iKM",
        "outputId": "de76bacd-b883-44a3-ddf4-8080942cdc50"
      },
      "execution_count": 28,
      "outputs": [
        {
          "output_type": "execute_result",
          "data": {
            "text/plain": [
              "tensor(1.0918)"
            ]
          },
          "metadata": {},
          "execution_count": 28
        }
      ]
    },
    {
      "cell_type": "code",
      "source": [
        "torch.softmax(torch.tensor([0.1, -0.2, 0.3, -0.2, 0.5]), dim=-1)"
      ],
      "metadata": {
        "colab": {
          "base_uri": "https://localhost:8080/"
        },
        "id": "JB82yzt44REI",
        "outputId": "7963c44e-41bd-4b27-feaf-9523f4fe24f3"
      },
      "execution_count": 29,
      "outputs": [
        {
          "output_type": "execute_result",
          "data": {
            "text/plain": [
              "tensor([0.1925, 0.1426, 0.2351, 0.1426, 0.2872])"
            ]
          },
          "metadata": {},
          "execution_count": 29
        }
      ]
    },
    {
      "cell_type": "code",
      "source": [
        "torch.softmax(torch.tensor([0.1, -0.2, 0.3, -0.2, 0.5])*8, dim=-1) # gets too peaky, converges to one-hot"
      ],
      "metadata": {
        "colab": {
          "base_uri": "https://localhost:8080/"
        },
        "id": "Mpt8569BB9_f",
        "outputId": "e8fbd805-a526-498f-b213-9836c08b3687"
      },
      "execution_count": 30,
      "outputs": [
        {
          "output_type": "execute_result",
          "data": {
            "text/plain": [
              "tensor([0.0326, 0.0030, 0.1615, 0.0030, 0.8000])"
            ]
          },
          "metadata": {},
          "execution_count": 30
        }
      ]
    },
    {
      "cell_type": "code",
      "source": [
        "class LayerNorm1d: # (used to be BatchNorm1d)\n",
        "\n",
        "  def __init__(self, dim, eps=1e-5, momentum=0.1):\n",
        "    self.eps = eps\n",
        "    self.gamma = torch.ones(dim)\n",
        "    self.beta = torch.zeros(dim)\n",
        "\n",
        "  def __call__(self, x):\n",
        "    # calculate the forward pass\n",
        "    xmean = x.mean(1, keepdim=True) # batch mean\n",
        "    xvar = x.var(1, keepdim=True) # batch variance\n",
        "    xhat = (x - xmean) / torch.sqrt(xvar + self.eps) # normalize to unit variance\n",
        "    self.out = self.gamma * xhat + self.beta\n",
        "    return self.out\n",
        "\n",
        "  def parameters(self):\n",
        "    return [self.gamma, self.beta]\n",
        "\n",
        "torch.manual_seed(1337)\n",
        "module = LayerNorm1d(100)\n",
        "x = torch.randn(32, 100) # batch size 32 of 100-dimensional vectors\n",
        "x = module(x)\n",
        "x.shape"
      ],
      "metadata": {
        "colab": {
          "base_uri": "https://localhost:8080/"
        },
        "id": "2Num7sX9CKOH",
        "outputId": "dfecb82d-00d3-4f8a-ad4a-3988e589bfa9"
      },
      "execution_count": 31,
      "outputs": [
        {
          "output_type": "execute_result",
          "data": {
            "text/plain": [
              "torch.Size([32, 100])"
            ]
          },
          "metadata": {},
          "execution_count": 31
        }
      ]
    },
    {
      "cell_type": "code",
      "source": [
        "x[:,0].mean(), x[:,0].std() # mean,std of one feature across all batch inputs"
      ],
      "metadata": {
        "colab": {
          "base_uri": "https://localhost:8080/"
        },
        "id": "633T2cmnW1uk",
        "outputId": "5e0c39f8-3f43-4e3f-ee5c-49217c77aea7"
      },
      "execution_count": 32,
      "outputs": [
        {
          "output_type": "execute_result",
          "data": {
            "text/plain": [
              "(tensor(0.1469), tensor(0.8803))"
            ]
          },
          "metadata": {},
          "execution_count": 32
        }
      ]
    },
    {
      "cell_type": "code",
      "source": [
        "x[0,:].mean(), x[0,:].std() # mean,std of a single input from the batch, of its features"
      ],
      "metadata": {
        "colab": {
          "base_uri": "https://localhost:8080/"
        },
        "id": "LN9cK9BoXCYb",
        "outputId": "e8dd4b52-8a1f-4a9c-922f-594235463e5b"
      },
      "execution_count": 33,
      "outputs": [
        {
          "output_type": "execute_result",
          "data": {
            "text/plain": [
              "(tensor(-9.5367e-09), tensor(1.0000))"
            ]
          },
          "metadata": {},
          "execution_count": 33
        }
      ]
    },
    {
      "cell_type": "code",
      "source": [
        "# French to English translation example:\n",
        "\n",
        "# <--------- ENCODE ------------------><--------------- DECODE ----------------->\n",
        "# les réseaux de neurones sont géniaux! <START> neural networks are awesome!<END>\n",
        "\n"
      ],
      "metadata": {
        "id": "dRJH6wM_XFfU"
      },
      "execution_count": 34,
      "outputs": []
    },
    {
      "cell_type": "markdown",
      "source": [
        "### Full finished code, for reference\n",
        "\n",
        "You may want to refer directly to the git repo instead though."
      ],
      "metadata": {
        "id": "ZcvKeBXoZFOY"
      }
    },
    {
      "cell_type": "code",
      "source": [
        "import torch\n",
        "import torch.nn as nn\n",
        "from torch.nn import functional as F\n",
        "\n",
        "# hyperparameters\n",
        "batch_size = 16 # how many independent sequences will we process in parallel?\n",
        "block_size = 32 # what is the maximum context length for predictions?\n",
        "max_iters = 5000\n",
        "eval_interval = 100\n",
        "learning_rate = 1e-3\n",
        "device = 'cuda' if torch.cuda.is_available() else 'cpu'\n",
        "eval_iters = 200\n",
        "n_embd = 64\n",
        "n_head = 4\n",
        "n_layer = 4\n",
        "dropout = 0.0\n",
        "# ------------\n",
        "\n",
        "torch.manual_seed(1337)\n",
        "\n",
        "# wget https://raw.githubusercontent.com/jackforgothispassword/SherlockGPT/main/input.txt\n",
        "with open('input.txt', 'r', encoding='utf-8') as f:\n",
        "    text = f.read()\n",
        "\n",
        "# here are all the unique characters that occur in this text\n",
        "chars = sorted(list(set(text)))\n",
        "vocab_size = len(chars)\n",
        "# create a mapping from characters to integers\n",
        "stoi = { ch:i for i,ch in enumerate(chars) }\n",
        "itos = { i:ch for i,ch in enumerate(chars) }\n",
        "encode = lambda s: [stoi[c] for c in s] # encoder: take a string, output a list of integers\n",
        "decode = lambda l: ''.join([itos[i] for i in l]) # decoder: take a list of integers, output a string\n",
        "\n",
        "# Train and test splits\n",
        "data = torch.tensor(encode(text), dtype=torch.long)\n",
        "n = int(0.9*len(data)) # first 90% will be train, rest val\n",
        "train_data = data[:n]\n",
        "val_data = data[n:]\n",
        "\n",
        "# data loading\n",
        "def get_batch(split):\n",
        "    # generate a small batch of data of inputs x and targets y\n",
        "    data = train_data if split == 'train' else val_data\n",
        "    ix = torch.randint(len(data) - block_size, (batch_size,))\n",
        "    x = torch.stack([data[i:i+block_size] for i in ix])\n",
        "    y = torch.stack([data[i+1:i+block_size+1] for i in ix])\n",
        "    x, y = x.to(device), y.to(device)\n",
        "    return x, y\n",
        "\n",
        "@torch.no_grad()\n",
        "def estimate_loss():\n",
        "    out = {}\n",
        "    model.eval()\n",
        "    for split in ['train', 'val']:\n",
        "        losses = torch.zeros(eval_iters)\n",
        "        for k in range(eval_iters):\n",
        "            X, Y = get_batch(split)\n",
        "            logits, loss = model(X, Y)\n",
        "            losses[k] = loss.item()\n",
        "        out[split] = losses.mean()\n",
        "    model.train()\n",
        "    return out\n",
        "\n",
        "class Head(nn.Module):\n",
        "    \"\"\" one head of self-attention \"\"\"\n",
        "\n",
        "    def __init__(self, head_size):\n",
        "        super().__init__()\n",
        "        self.key = nn.Linear(n_embd, head_size, bias=False)\n",
        "        self.query = nn.Linear(n_embd, head_size, bias=False)\n",
        "        self.value = nn.Linear(n_embd, head_size, bias=False)\n",
        "        self.register_buffer('tril', torch.tril(torch.ones(block_size, block_size)))\n",
        "\n",
        "        self.dropout = nn.Dropout(dropout)\n",
        "\n",
        "    def forward(self, x):\n",
        "        B,T,C = x.shape\n",
        "        k = self.key(x)   # (B,T,C)\n",
        "        q = self.query(x) # (B,T,C)\n",
        "        # compute attention scores (\"affinities\")\n",
        "        wei = q @ k.transpose(-2,-1) * C**-0.5 # (B, T, C) @ (B, C, T) -> (B, T, T)\n",
        "        wei = wei.masked_fill(self.tril[:T, :T] == 0, float('-inf')) # (B, T, T)\n",
        "        wei = F.softmax(wei, dim=-1) # (B, T, T)\n",
        "        wei = self.dropout(wei)\n",
        "        # perform the weighted aggregation of the values\n",
        "        v = self.value(x) # (B,T,C)\n",
        "        out = wei @ v # (B, T, T) @ (B, T, C) -> (B, T, C)\n",
        "        return out\n",
        "\n",
        "class MultiHeadAttention(nn.Module):\n",
        "    \"\"\" multiple heads of self-attention in parallel \"\"\"\n",
        "\n",
        "    def __init__(self, num_heads, head_size):\n",
        "        super().__init__()\n",
        "        self.heads = nn.ModuleList([Head(head_size) for _ in range(num_heads)])\n",
        "        self.proj = nn.Linear(n_embd, n_embd)\n",
        "        self.dropout = nn.Dropout(dropout)\n",
        "\n",
        "    def forward(self, x):\n",
        "        out = torch.cat([h(x) for h in self.heads], dim=-1)\n",
        "        out = self.dropout(self.proj(out))\n",
        "        return out\n",
        "\n",
        "class FeedFoward(nn.Module):\n",
        "    \"\"\" a simple linear layer followed by a non-linearity \"\"\"\n",
        "\n",
        "    def __init__(self, n_embd):\n",
        "        super().__init__()\n",
        "        self.net = nn.Sequential(\n",
        "            nn.Linear(n_embd, 4 * n_embd),\n",
        "            nn.ReLU(),\n",
        "            nn.Linear(4 * n_embd, n_embd),\n",
        "            nn.Dropout(dropout),\n",
        "        )\n",
        "\n",
        "    def forward(self, x):\n",
        "        return self.net(x)\n",
        "\n",
        "class Block(nn.Module):\n",
        "    \"\"\" Transformer block: communication followed by computation \"\"\"\n",
        "\n",
        "    def __init__(self, n_embd, n_head):\n",
        "        # n_embd: embedding dimension, n_head: the number of heads we'd like\n",
        "        super().__init__()\n",
        "        head_size = n_embd // n_head\n",
        "        self.sa = MultiHeadAttention(n_head, head_size)\n",
        "        self.ffwd = FeedFoward(n_embd)\n",
        "        self.ln1 = nn.LayerNorm(n_embd)\n",
        "        self.ln2 = nn.LayerNorm(n_embd)\n",
        "\n",
        "    def forward(self, x):\n",
        "        x = x + self.sa(self.ln1(x))\n",
        "        x = x + self.ffwd(self.ln2(x))\n",
        "        return x\n",
        "\n",
        "# super simple bigram model\n",
        "class BigramLanguageModel(nn.Module):\n",
        "\n",
        "    def __init__(self):\n",
        "        super().__init__()\n",
        "        # each token directly reads off the logits for the next token from a lookup table\n",
        "        self.token_embedding_table = nn.Embedding(vocab_size, n_embd)\n",
        "        self.position_embedding_table = nn.Embedding(block_size, n_embd)\n",
        "        self.blocks = nn.Sequential(*[Block(n_embd, n_head=n_head) for _ in range(n_layer)])\n",
        "        self.ln_f = nn.LayerNorm(n_embd) # final layer norm\n",
        "        self.lm_head = nn.Linear(n_embd, vocab_size)\n",
        "\n",
        "    def forward(self, idx, targets=None):\n",
        "        B, T = idx.shape\n",
        "\n",
        "        # idx and targets are both (B,T) tensor of integers\n",
        "        tok_emb = self.token_embedding_table(idx) # (B,T,C)\n",
        "        pos_emb = self.position_embedding_table(torch.arange(T, device=device)) # (T,C)\n",
        "        x = tok_emb + pos_emb # (B,T,C)\n",
        "        x = self.blocks(x) # (B,T,C)\n",
        "        x = self.ln_f(x) # (B,T,C)\n",
        "        logits = self.lm_head(x) # (B,T,vocab_size)\n",
        "\n",
        "        if targets is None:\n",
        "            loss = None\n",
        "        else:\n",
        "            B, T, C = logits.shape\n",
        "            logits = logits.view(B*T, C)\n",
        "            targets = targets.view(B*T)\n",
        "            loss = F.cross_entropy(logits, targets)\n",
        "\n",
        "        return logits, loss\n",
        "\n",
        "    def generate(self, idx, max_new_tokens):\n",
        "        # idx is (B, T) array of indices in the current context\n",
        "        for _ in range(max_new_tokens):\n",
        "            # crop idx to the last block_size tokens\n",
        "            idx_cond = idx[:, -block_size:]\n",
        "            # get the predictions\n",
        "            logits, loss = self(idx_cond)\n",
        "            # focus only on the last time step\n",
        "            logits = logits[:, -1, :] # becomes (B, C)\n",
        "            # apply softmax to get probabilities\n",
        "            probs = F.softmax(logits, dim=-1) # (B, C)\n",
        "            # sample from the distribution\n",
        "            idx_next = torch.multinomial(probs, num_samples=1) # (B, 1)\n",
        "            # append sampled index to the running sequence\n",
        "            idx = torch.cat((idx, idx_next), dim=1) # (B, T+1)\n",
        "        return idx\n",
        "\n",
        "model = BigramLanguageModel()\n",
        "m = model.to(device)\n",
        "# print the number of parameters in the model\n",
        "print(sum(p.numel() for p in m.parameters())/1e6, 'M parameters')\n",
        "\n",
        "# create a PyTorch optimizer\n",
        "optimizer = torch.optim.AdamW(model.parameters(), lr=learning_rate)\n",
        "\n",
        "for iter in range(max_iters):\n",
        "\n",
        "    # every once in a while evaluate the loss on train and val sets\n",
        "    if iter % eval_interval == 0 or iter == max_iters - 1:\n",
        "        losses = estimate_loss()\n",
        "        print(f\"step {iter}: train loss {losses['train']:.4f}, val loss {losses['val']:.4f}\")\n",
        "\n",
        "    # sample a batch of data\n",
        "    xb, yb = get_batch('train')\n",
        "\n",
        "    # evaluate the loss\n",
        "    logits, loss = model(xb, yb)\n",
        "    optimizer.zero_grad(set_to_none=True)\n",
        "    loss.backward()\n",
        "    optimizer.step()\n",
        "\n",
        "# generate from the model\n",
        "context = torch.zeros((1, 1), dtype=torch.long, device=device)\n",
        "print(decode(m.generate(context, max_new_tokens=2000)[0].tolist()))\n"
      ],
      "metadata": {
        "colab": {
          "base_uri": "https://localhost:8080/"
        },
        "id": "hoelkOrFY8bN",
        "outputId": "e3cf91ce-f958-42c0-c62b-3c1cbce91345"
      },
      "execution_count": 36,
      "outputs": [
        {
          "output_type": "stream",
          "name": "stdout",
          "text": [
            "0.211793 M parameters\n",
            "step 0: train loss 4.4822, val loss 4.4818\n",
            "step 100: train loss 2.6033, val loss 2.6119\n",
            "step 200: train loss 2.4757, val loss 2.4872\n",
            "step 300: train loss 2.3870, val loss 2.3918\n",
            "step 400: train loss 2.3040, val loss 2.3183\n",
            "step 500: train loss 2.2429, val loss 2.2500\n",
            "step 600: train loss 2.1849, val loss 2.1834\n",
            "step 700: train loss 2.1408, val loss 2.1384\n",
            "step 800: train loss 2.0775, val loss 2.1024\n",
            "step 900: train loss 2.0440, val loss 2.0498\n",
            "step 1000: train loss 2.0143, val loss 2.0138\n",
            "step 1100: train loss 1.9858, val loss 2.0027\n",
            "step 1200: train loss 1.9653, val loss 1.9662\n",
            "step 1300: train loss 1.9346, val loss 1.9346\n",
            "step 1400: train loss 1.9093, val loss 1.9151\n",
            "step 1500: train loss 1.8849, val loss 1.8837\n",
            "step 1600: train loss 1.8569, val loss 1.8677\n",
            "step 1700: train loss 1.8505, val loss 1.8642\n",
            "step 1800: train loss 1.8335, val loss 1.8393\n",
            "step 1900: train loss 1.8079, val loss 1.8381\n",
            "step 2000: train loss 1.8163, val loss 1.8208\n",
            "step 2100: train loss 1.7873, val loss 1.8066\n",
            "step 2200: train loss 1.7905, val loss 1.7924\n",
            "step 2300: train loss 1.7570, val loss 1.7654\n",
            "step 2400: train loss 1.7533, val loss 1.7695\n",
            "step 2500: train loss 1.7334, val loss 1.7650\n",
            "step 2600: train loss 1.7383, val loss 1.7524\n",
            "step 2700: train loss 1.7231, val loss 1.7459\n",
            "step 2800: train loss 1.7062, val loss 1.7378\n",
            "step 2900: train loss 1.7055, val loss 1.7324\n",
            "step 3000: train loss 1.6943, val loss 1.7160\n",
            "step 3100: train loss 1.6883, val loss 1.7206\n",
            "step 3200: train loss 1.6820, val loss 1.7096\n",
            "step 3300: train loss 1.6743, val loss 1.7092\n",
            "step 3400: train loss 1.6628, val loss 1.6967\n",
            "step 3500: train loss 1.6734, val loss 1.6846\n",
            "step 3600: train loss 1.6588, val loss 1.6932\n",
            "step 3700: train loss 1.6511, val loss 1.6805\n",
            "step 3800: train loss 1.6598, val loss 1.6894\n",
            "step 3900: train loss 1.6421, val loss 1.6829\n",
            "step 4000: train loss 1.6339, val loss 1.6642\n",
            "step 4100: train loss 1.6271, val loss 1.6643\n",
            "step 4200: train loss 1.6228, val loss 1.6542\n",
            "step 4300: train loss 1.6191, val loss 1.6597\n",
            "step 4400: train loss 1.6132, val loss 1.6479\n",
            "step 4500: train loss 1.5961, val loss 1.6482\n",
            "step 4600: train loss 1.5969, val loss 1.6514\n",
            "step 4700: train loss 1.5918, val loss 1.6320\n",
            "step 4800: train loss 1.5953, val loss 1.6382\n",
            "step 4900: train loss 1.6021, val loss 1.6380\n",
            "step 4999: train loss 1.5822, val loss 1.6248\n",
            "\n",
            "his habone to the moy ledgaring whisken.\n",
            "\n",
            "\"A say with my appearteded, an boyon't. Allors my down to my to which. They imply fixure were to may take for\n",
            "my denting agelence, that I heard darkness, nire\n",
            "onswated a wit's down you fered, mumbern.\n",
            "\n",
            "That is sentiffent more some minutal which had was gains in remon upon the storesh and\n",
            "carse instroujome madan hat alone, Carry own my\n",
            "raft, and, and you matefore might tome back our of the was all a. Threate could hard ad her maties.\"\n",
            "\n",
            "\"'Oh, yes-way, Mr. Saverrowed him as ganst. That\n",
            "deters. Millow?\" He certica, Dr. Holmet, with a smrame was at gold struarths in the sqate of\n",
            "what work to breat, Ill, not I ret might\n",
            "into save him cannote talles black I semet. One the Butt to make the stame\n",
            "to, feet, the rofuler to has\n",
            "not loasking shive.\"\n",
            "\n",
            "\"We was them, it we had been race sing horrs of avery, fatts. You wach\n",
            "me ming of the Mors what reaso my still for force parbely.\n",
            "\n",
            "\"Well, you say the halwead the matter. There.\"\n",
            "\n",
            "\"Andianted broulding too Litcloo. Wellock, you\n",
            "are, wyet I am usiffoce, \"the sealed him had here not keepless intemption\n",
            "gensorace. Gh head as he has rate-trained into matter that is as\n",
            "were her Bale to a palders and at just gain to what heat\n",
            "in his attennatured of simple in\n",
            "the room. Ersaxive. May anched who parterfed at have now cobless sitting ther, \"I scire that a Gome of him of at who\n",
            "sustand commoy entemmach Towevel Brife, in the docbood. Siluc theirs, if he was a\n",
            "window, and twingure was droung an rights, his so. Read neiffice up tilent retudy.\n",
            "\n",
            "\"Whin is were new-glumble\n",
            "facele's saming \"age the treatim to it inston, on curch, his dress at thing\n",
            "the lione. In creemed.\"\n",
            "\n",
            "\"He said the saw, with an a sear of that I five may be moke mattering upon. Hair, well hing Roylott and of you, and in the will go, plaiur, and which of the\n",
            "cobnect. A meeturning smiles imboather. I seressly compary dup which ha! Was when\n",
            "seember.\n",
            "\n",
            "\"It was talkhtly some ruming anything\n",
            "over\n",
            "his eye, or of me. I knew think, I drecloss, in me an\n"
          ]
        }
      ]
    },
    {
      "cell_type": "code",
      "source": [],
      "metadata": {
        "id": "fjjvMifYZf7x"
      },
      "execution_count": null,
      "outputs": []
    }
  ]
}